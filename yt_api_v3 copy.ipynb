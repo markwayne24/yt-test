{
 "cells": [
  {
   "cell_type": "code",
   "execution_count": null,
   "metadata": {},
   "outputs": [],
   "source": [
    "import sys\n",
    "!{sys.executable} -m pip install --upgrade google-api-python-client google-auth-oauthlib google-auth-httplib2 ipyauth"
   ]
  },
  {
   "cell_type": "code",
   "execution_count": 96,
   "metadata": {},
   "outputs": [],
   "source": [
    "import json\n",
    "import uuid\n",
    "from IPython.display import display_javascript, display_html, display\n",
    "import requests\n",
    "\n",
    "googleAppId = '422694994427-8vo76kqv7nm99v27dofkek56et6i2tp5.apps.googleusercontent.com'\n",
    "googleSecret = '0PsnuDv1sPSv9CkpDlsc03Sz'\n",
    "\n",
    "# FOR PRETTY JSON DISPLAY ONLY\n",
    "def PRETTYJSON(json_data):\n",
    "    if isinstance(json_data, dict) or isinstance(json_data, list):\n",
    "        json_str = json.dumps(json_data)\n",
    "    else:\n",
    "        json_str = json_data\n",
    "    str_uuid = str(uuid.uuid4())\n",
    "    \n",
    "    return display(json_str, str_uuid)\n",
    "\n",
    "def display(json_str, str_uuid):\n",
    "    display_html('<div id=\"{}\" style=\"height: 600px; width:100%;font: 12px/18px monospace !important;\"></div>'.format(str_uuid), raw=True)\n",
    "    display_javascript(\"\"\"\n",
    "    require([\"https://rawgit.com/caldwell/renderjson/master/renderjson.js\"], function() {\n",
    "        renderjson.set_show_to_level(2);\n",
    "        document.getElementById('%s').appendChild(renderjson(%s))\n",
    "    });\n",
    "    \"\"\" % (str_uuid, json_str), raw=True)\n",
    "    \n",
    "\n",
    "# FOR YOUTUBE REQUEST\n",
    "def get_youtube_request(token, url):        \n",
    "    # Sample url\n",
    "    # url = f'https://www.googleapis.com/youtube/v3/videos?part=statistics&id={video_id}'\n",
    "\n",
    "    headers = {\n",
    "        'Authorization': f'Bearer {token}',\n",
    "        'Content-Type': 'application/json'\n",
    "    }\n",
    "\n",
    "    r = requests.get(url, headers=headers)\n",
    "    \n",
    "    return r.json()\n",
    "\n",
    "# EXCHANGE CODE FOR TOKEN AND REFRESH TOKEN\n",
    "# Redirect_uri must the same as the redirect_uri to the frontend where you requested the Authorization code\n",
    "# Make sure that you have added 'http://127.0.0.1:3000/' to your Google OAuth client ID credentisl\n",
    "def exchange_code_for_token(auth_code):\n",
    "    # You must put valid Authorization code \n",
    "#     auth_code = \"4/1AEM5AcWSjPljhXCMWdpZ0jF9QnmfFi7tzIZNlxAoKqGGmnX1e-hAhG_bf4kfWBcgvngEF91TGblNvDZfpQTmso\"\n",
    "\n",
    "    url = 'https://www.googleapis.com/oauth2/v4/token'\n",
    "\n",
    "    data = {\n",
    "        'code': auth_code,\n",
    "        'client_id': googleAppId,\n",
    "        'client_secret': googleSecret,\n",
    "        'redirect_uri': 'http://127.0.0.1:3000/',\n",
    "        'grant_type':\"authorization_code\",\n",
    "    };\n",
    "\n",
    "    r = requests.post(url , data=json.dumps(data))\n",
    "    \n",
    "    return r.json()\n",
    "\n",
    "# REFRESH THE TOKEN\n",
    "def yt_refresh_token(refresh_token):\n",
    "    url = 'https://www.googleapis.com/oauth2/v4/token'\n",
    "\n",
    "    data = {\n",
    "        'client_id': googleAppId,\n",
    "        'client_secret': googleSecret,\n",
    "        'refresh_token': refresh_token,\n",
    "        'grant_type': 'refresh_token'\n",
    "    }\n",
    "    \n",
    "    \n",
    "    r = requests.post(url , data=json.dumps(data))\n",
    "\n",
    "    return r.json()"
   ]
  },
  {
   "cell_type": "code",
   "execution_count": 100,
   "metadata": {},
   "outputs": [],
   "source": [
    "# # LET'S TRY EXCHANGE CODE FOR TOKEN\n",
    "# response = exchange_code_for_token(\"4/1QHfEQtW5BXoW_qo3-r3j0y5En79zSjKUVonrE4duQJlgrl8bQqFJM7irj0rCNl0bOoXT3PBkuihL3cUpvlnnwc\")\n",
    "# access_token = response['access_token']\n",
    "# refresh_token = response['refresh_token']\n",
    "\n",
    "# # Display the response\n",
    "# PRETTYJSON(response)"
   ]
  },
  {
   "cell_type": "code",
   "execution_count": 99,
   "metadata": {},
   "outputs": [
    {
     "data": {
      "text/html": [
       "<div id=\"3ad8ed0a-e111-486b-b665-0a62824a80d6\" style=\"height: 600px; width:100%;font: 12px/18px monospace !important;\"></div>"
      ]
     },
     "metadata": {},
     "output_type": "display_data"
    },
    {
     "data": {
      "application/javascript": [
       "\n",
       "    require([\"https://rawgit.com/caldwell/renderjson/master/renderjson.js\"], function() {\n",
       "        renderjson.set_show_to_level(2);\n",
       "        document.getElementById('3ad8ed0a-e111-486b-b665-0a62824a80d6').appendChild(renderjson({\"access_token\": \"ya29.a0AfH6SMCbFQVBUD-TYY4yO53PqJDl6UByV7ARzM68QQzYJdOLs-jsOpVqNB_yae9v4MUTaTbZiqpendfdHOlwkAoQwgwMdXDa79KgTg5ZDK8FqkJ8FHkhtTWgkRplYKWKLU2741PU19O6Kl1kg7zSb7NihYQ8Uik3UMs\", \"expires_in\": 3599, \"scope\": \"https://www.googleapis.com/auth/userinfo.email https://www.googleapis.com/auth/youtube.force-ssl openid https://www.googleapis.com/auth/userinfo.profile https://www.googleapis.com/auth/yt-analytics.readonly https://www.googleapis.com/auth/youtube.readonly\", \"token_type\": \"Bearer\", \"id_token\": \"eyJhbGciOiJSUzI1NiIsImtpZCI6ImUyMDI4MmY0NDE1NjdjNWVjYjYwNjQ4ODc2ODU3ZjdiOGM1MWM0M2EiLCJ0eXAiOiJKV1QifQ.eyJpc3MiOiJodHRwczovL2FjY291bnRzLmdvb2dsZS5jb20iLCJhenAiOiI0MjI2OTQ5OTQ0MjctOHZvNzZrcXY3bm05OXYyN2RvZmtlazU2ZXQ2aTJ0cDUuYXBwcy5nb29nbGV1c2VyY29udGVudC5jb20iLCJhdWQiOiI0MjI2OTQ5OTQ0MjctOHZvNzZrcXY3bm05OXYyN2RvZmtlazU2ZXQ2aTJ0cDUuYXBwcy5nb29nbGV1c2VyY29udGVudC5jb20iLCJzdWIiOiIxMDU4MzgyNzM5Nzc3NzgxNTgyOTQiLCJlbWFpbCI6ImN1eS0zNzQwLTY1MDlAcGFnZXMucGx1c2dvb2dsZS5jb20iLCJlbWFpbF92ZXJpZmllZCI6dHJ1ZSwiYXRfaGFzaCI6IkZkS2EyMHFROC1yb1RwWGstdFVRalEiLCJuYW1lIjoiQ3V5IiwicGljdHVyZSI6Imh0dHBzOi8vbGgzLmdvb2dsZXVzZXJjb250ZW50LmNvbS9hLS9BT2gxNEdoSEZBMU9ZSnc2ejBNQjA1UTdXa0V1UkRVY09VYzYyLXlwcWFPeT1zOTYtYyIsImdpdmVuX25hbWUiOiJDdXkiLCJsb2NhbGUiOiJlbiIsImlhdCI6MTU5MzA4OTcxMCwiZXhwIjoxNTkzMDkzMzEwfQ.UAe1H6vGwEClhtUsvYdTsmsAnqH8ya-vnBgB1Z9hZubjx2hXelM34b3oJioTsrqkYFGwu5vhTbNoS1kUGEHI8MPrB1uxgX1rMa2p5PkBTD_LdxvMX3mNf7kEHPe5y49cqtf-Vs6dfO6momuJ_xz28e2i1aZjHlDWXUrixl2GUWd_zLOaexq3NOeQqLkAOHHVzPKh_mfHuXBToclc_SMs6yPqskAU-1-RKsHKoxTn1rM1HKB0ENcUnZy3VZi-q63-A2Jax5CUMA2ZeVDB_46sWBsVf7gDR1RHObfvMT01alecKdCtBDaHccWRCCSGP6v0F11t6ElqgNt8yp3r2k45SQ\"}))\n",
       "    });\n",
       "    "
      ]
     },
     "metadata": {},
     "output_type": "display_data"
    }
   ],
   "source": [
    "# REFRESH TOKEN\n",
    "response = yt_refresh_token(refresh_token)\n",
    "access_token = response['access_token']\n",
    "\n",
    "# Display the response\n",
    "PRETTYJSON(response)"
   ]
  },
  {
   "cell_type": "code",
   "execution_count": 75,
   "metadata": {},
   "outputs": [
    {
     "data": {
      "text/html": [
       "<div id=\"ccb77f12-72ad-45d9-8572-8de5364b2a4d\" style=\"height: 600px; width:100%;font: 12px/18px monospace !important;\"></div>"
      ]
     },
     "metadata": {},
     "output_type": "display_data"
    },
    {
     "data": {
      "application/javascript": [
       "\n",
       "    require([\"https://rawgit.com/caldwell/renderjson/master/renderjson.js\"], function() {\n",
       "        renderjson.set_show_to_level(2);\n",
       "        document.getElementById('ccb77f12-72ad-45d9-8572-8de5364b2a4d').appendChild(renderjson({\"kind\": \"youtube#channelListResponse\", \"etag\": \"e6W-OzczA8S4ayi6UAYDPyFiAXQ\", \"pageInfo\": {\"totalResults\": 1, \"resultsPerPage\": 1}, \"items\": [{\"kind\": \"youtube#channel\", \"etag\": \"qfECz7LeMlL4-5EpU5cHwbu5WAk\", \"id\": \"UC8iM3fmURtT60nLMS2U4a3g\", \"snippet\": {\"title\": \"Cuy\", \"description\": \"Hello, I'm Cuy. Welcome to my channel!! :)\\n\\nI started to write songs when i was in college but i didn't have the courage to share it with everyone that time. Through this channel, my goal is to really just share with you my God-given talent and i really hope that you'll like and enjoy my music :)\", \"publishedAt\": \"2020-04-06T10:00:19Z\", \"thumbnails\": {\"default\": {\"url\": \"https://yt3.ggpht.com/a/AATXAJxglkBUCsCKVKkkClFU6EzYfjprjZzICTACLw=s88-c-k-c0xffffffff-no-rj-mo\", \"width\": 88, \"height\": 88}, \"medium\": {\"url\": \"https://yt3.ggpht.com/a/AATXAJxglkBUCsCKVKkkClFU6EzYfjprjZzICTACLw=s240-c-k-c0xffffffff-no-rj-mo\", \"width\": 240, \"height\": 240}, \"high\": {\"url\": \"https://yt3.ggpht.com/a/AATXAJxglkBUCsCKVKkkClFU6EzYfjprjZzICTACLw=s800-c-k-c0xffffffff-no-rj-mo\", \"width\": 800, \"height\": 800}}, \"localized\": {\"title\": \"Cuy\", \"description\": \"Hello, I'm Cuy. Welcome to my channel!! :)\\n\\nI started to write songs when i was in college but i didn't have the courage to share it with everyone that time. Through this channel, my goal is to really just share with you my God-given talent and i really hope that you'll like and enjoy my music :)\"}, \"country\": \"PH\"}, \"contentDetails\": {\"relatedPlaylists\": {\"likes\": \"LL8iM3fmURtT60nLMS2U4a3g\", \"favorites\": \"FL8iM3fmURtT60nLMS2U4a3g\", \"uploads\": \"UU8iM3fmURtT60nLMS2U4a3g\", \"watchHistory\": \"HL\", \"watchLater\": \"WL\"}}, \"statistics\": {\"viewCount\": \"1957\", \"commentCount\": \"0\", \"subscriberCount\": \"99\", \"hiddenSubscriberCount\": false, \"videoCount\": \"8\"}, \"status\": {\"privacyStatus\": \"public\", \"isLinked\": true, \"longUploadsStatus\": \"eligible\"}}]}))\n",
       "    });\n",
       "    "
      ]
     },
     "metadata": {},
     "output_type": "display_data"
    }
   ],
   "source": [
    "yt_url = 'https://www.googleapis.com/youtube/v3/channels?part=contentDetails,snippet,status,statistics&mine=true'\n",
    "# print(access_token)\n",
    "response = get_youtube_request(access_token, yt_url)\n",
    "\n",
    "# Display the response\n",
    "PRETTYJSON(response)"
   ]
  },
  {
   "cell_type": "code",
   "execution_count": 79,
   "metadata": {},
   "outputs": [
    {
     "data": {
      "text/html": [
       "<div id=\"e0dd66e0-bf5f-44e9-9617-3d77ecbaf748\" style=\"height: 600px; width:100%;font: 12px/18px monospace !important;\"></div>"
      ]
     },
     "metadata": {},
     "output_type": "display_data"
    },
    {
     "data": {
      "application/javascript": [
       "\n",
       "    require([\"https://rawgit.com/caldwell/renderjson/master/renderjson.js\"], function() {\n",
       "        renderjson.set_show_to_level(2);\n",
       "        document.getElementById('e0dd66e0-bf5f-44e9-9617-3d77ecbaf748').appendChild(renderjson({\"kind\": \"youtube#channelListResponse\", \"etag\": \"R_qSdW7q9wVpwFDG-FjOwn7t954\", \"pageInfo\": {\"totalResults\": 1, \"resultsPerPage\": 1}, \"items\": [{\"kind\": \"youtube#channel\", \"etag\": \"qfECz7LeMlL4-5EpU5cHwbu5WAk\", \"id\": \"UC8iM3fmURtT60nLMS2U4a3g\", \"snippet\": {\"title\": \"Cuy\", \"description\": \"Hello, I'm Cuy. Welcome to my channel!! :)\\n\\nI started to write songs when i was in college but i didn't have the courage to share it with everyone that time. Through this channel, my goal is to really just share with you my God-given talent and i really hope that you'll like and enjoy my music :)\", \"publishedAt\": \"2020-04-06T10:00:19Z\", \"thumbnails\": {\"default\": {\"url\": \"https://yt3.ggpht.com/a/AATXAJxglkBUCsCKVKkkClFU6EzYfjprjZzICTACLw=s88-c-k-c0xffffffff-no-rj-mo\", \"width\": 88, \"height\": 88}, \"medium\": {\"url\": \"https://yt3.ggpht.com/a/AATXAJxglkBUCsCKVKkkClFU6EzYfjprjZzICTACLw=s240-c-k-c0xffffffff-no-rj-mo\", \"width\": 240, \"height\": 240}, \"high\": {\"url\": \"https://yt3.ggpht.com/a/AATXAJxglkBUCsCKVKkkClFU6EzYfjprjZzICTACLw=s800-c-k-c0xffffffff-no-rj-mo\", \"width\": 800, \"height\": 800}}, \"localized\": {\"title\": \"Cuy\", \"description\": \"Hello, I'm Cuy. Welcome to my channel!! :)\\n\\nI started to write songs when i was in college but i didn't have the courage to share it with everyone that time. Through this channel, my goal is to really just share with you my God-given talent and i really hope that you'll like and enjoy my music :)\"}, \"country\": \"PH\"}, \"contentDetails\": {\"relatedPlaylists\": {\"likes\": \"LL8iM3fmURtT60nLMS2U4a3g\", \"favorites\": \"FL8iM3fmURtT60nLMS2U4a3g\", \"uploads\": \"UU8iM3fmURtT60nLMS2U4a3g\", \"watchHistory\": \"HL\", \"watchLater\": \"WL\"}}, \"statistics\": {\"viewCount\": \"1957\", \"commentCount\": \"0\", \"subscriberCount\": \"99\", \"hiddenSubscriberCount\": false, \"videoCount\": \"8\"}, \"status\": {\"privacyStatus\": \"public\", \"isLinked\": true, \"longUploadsStatus\": \"eligible\"}}]}))\n",
       "    });\n",
       "    "
      ]
     },
     "metadata": {},
     "output_type": "display_data"
    }
   ],
   "source": [
    "# GETTING CHANNEL\n",
    "# PART\n",
    "#     auditDetails: 4\n",
    "#     brandingSettings: 2\n",
    "#     contentDetails: 2\n",
    "#     contentOwnerDetails: 2\n",
    "#     id: 0\n",
    "#     invideoPromotion: 2 (deprecated)\n",
    "#     localizations: 2\n",
    "#     snippet: 2\n",
    "#     statistics: 2\n",
    "#     status: 2\n",
    "#     topicDetails: 2\n",
    "# REFERENCE: https://developers.google.com/youtube/v3/docs/channels/list\n",
    "\n",
    "part = 'id,contentDetails,snippet,status,statistics'\n",
    "yt_url = f'https://www.googleapis.com/youtube/v3/channels?part={part}&mine=true'\n",
    "\n",
    "response = get_youtube_request(access_token, yt_url)\n",
    "\n",
    "PRETTYJSON(response)"
   ]
  },
  {
   "cell_type": "code",
   "execution_count": 80,
   "metadata": {},
   "outputs": [
    {
     "data": {
      "text/html": [
       "<div id=\"a0a0bd49-a00d-4ec8-9a49-8d5495ce8a33\" style=\"height: 600px; width:100%;font: 12px/18px monospace !important;\"></div>"
      ]
     },
     "metadata": {},
     "output_type": "display_data"
    },
    {
     "data": {
      "application/javascript": [
       "\n",
       "    require([\"https://rawgit.com/caldwell/renderjson/master/renderjson.js\"], function() {\n",
       "        renderjson.set_show_to_level(2);\n",
       "        document.getElementById('a0a0bd49-a00d-4ec8-9a49-8d5495ce8a33').appendChild(renderjson({\"kind\": \"youtube#playlistItemListResponse\", \"etag\": \"xPLJHucYmuSamI3Jbr8rrtvGPQM\", \"nextPageToken\": \"CAUQAA\", \"items\": [{\"kind\": \"youtube#playlistItem\", \"etag\": \"0JCoEhBd6OP__2x9KUVVs8hPmvU\", \"id\": \"VVU4aU0zZm1VUnRUNjBuTE1TMlU0YTNnLk9IUVBtdm9pS05V\", \"snippet\": {\"publishedAt\": \"2020-04-28T09:24:11Z\", \"channelId\": \"UC8iM3fmURtT60nLMS2U4a3g\", \"title\": \"Demonyo by Juan Karlos | Cover by Cuy\", \"description\": \"Just a short cover kaysa wala :)\", \"thumbnails\": {\"default\": {\"url\": \"https://i.ytimg.com/vi/OHQPmvoiKNU/default.jpg\", \"width\": 120, \"height\": 90}, \"medium\": {\"url\": \"https://i.ytimg.com/vi/OHQPmvoiKNU/mqdefault.jpg\", \"width\": 320, \"height\": 180}, \"high\": {\"url\": \"https://i.ytimg.com/vi/OHQPmvoiKNU/hqdefault.jpg\", \"width\": 480, \"height\": 360}, \"standard\": {\"url\": \"https://i.ytimg.com/vi/OHQPmvoiKNU/sddefault.jpg\", \"width\": 640, \"height\": 480}, \"maxres\": {\"url\": \"https://i.ytimg.com/vi/OHQPmvoiKNU/maxresdefault.jpg\", \"width\": 1280, \"height\": 720}}, \"channelTitle\": \"Cuy\", \"playlistId\": \"UU8iM3fmURtT60nLMS2U4a3g\", \"position\": 0, \"resourceId\": {\"kind\": \"youtube#video\", \"videoId\": \"OHQPmvoiKNU\"}}}, {\"kind\": \"youtube#playlistItem\", \"etag\": \"siEUb8YJE28U7RE3WQwJwDAeYC4\", \"id\": \"VVU4aU0zZm1VUnRUNjBuTE1TMlU0YTNnLjFlb2RwV1dBMk0w\", \"snippet\": {\"publishedAt\": \"2020-04-18T10:25:41Z\", \"channelId\": \"UC8iM3fmURtT60nLMS2U4a3g\", \"title\": \"Mahal na nga ba kita? (Original) by Cuy\", \"description\": \"Music and words by Cuy Pamintuan\\n\\nLyrics:\\n\\nHindi ko man madalas masabi\\nSana'y makita mo saking ngiti\\nIka'y narito, sa puso\\nMinsan man ay nalilito\\nPuso at isip ay nagkakagulo\\nNananaig pa rin, ang pag-ibig ko para sayo.\\n\\nPag-ibig na pinanghahawakan,\\u00a0\\nKaya kayang ipaglaban?\\n\\nKapag ika'y kasama\\nHalos ayaw ko ng kumawala\\nNagwawala ang puso\\nSa iyong tabi\\nAking lungkot ay napapawi palagi.\\nTuwing ako'y hawak hawak mo\\nPanatag ang loob ko\\nAno nga ba ito?\\nMahal na nga ba kita?\\n\\nHindi alam ang susunod na hakbang\\u00a0\\nAyokong ikaw ay masaktan,\\u00a0\\nNgunit ito nga bay maiiwasan?\\nKahit ano pa man,\\nKahit ano pang sabihin ng iba,\\nHindi ko ipagkakait\\nNa iparamdam sayo\\n\\nAko'y lubos na nagalak\\nSa iyong pagdating\\n\\nKapag ika'y kasama\\nHalos ayaw ko ng kumawala\\nNagwawala ang puso\\nSa iyong tabi\\nAking lungkot ay napapawi palagi.\\nTuwing ako'y hawak hawak mo\\nPanatag ang loob ko\\nAno nga ba ito?\\nMahal na nga ba kita?\\n\\nHindi alam kung kailan nagsimula\\nKung hanggang kailan,\\nKung hanggang saan.\\nNais ko lang namang malaman\\nKung ako ba ay mahal mo rin\\n\\nKapag ika'y kasama\\nHalos ayaw ko ng kumawala\\nNagwawala ang puso\\nSa iyong tabi\\nAking lungkot ay napapawi palagi.\\nTuwing ako'y hawak hawak mo\\nPanatag ang loob ko\\nEto na nga talaga\\nMahal na nga kita :)\", \"thumbnails\": {\"default\": {\"url\": \"https://i.ytimg.com/vi/1eodpWWA2M0/default.jpg\", \"width\": 120, \"height\": 90}, \"medium\": {\"url\": \"https://i.ytimg.com/vi/1eodpWWA2M0/mqdefault.jpg\", \"width\": 320, \"height\": 180}, \"high\": {\"url\": \"https://i.ytimg.com/vi/1eodpWWA2M0/hqdefault.jpg\", \"width\": 480, \"height\": 360}, \"standard\": {\"url\": \"https://i.ytimg.com/vi/1eodpWWA2M0/sddefault.jpg\", \"width\": 640, \"height\": 480}, \"maxres\": {\"url\": \"https://i.ytimg.com/vi/1eodpWWA2M0/maxresdefault.jpg\", \"width\": 1280, \"height\": 720}}, \"channelTitle\": \"Cuy\", \"playlistId\": \"UU8iM3fmURtT60nLMS2U4a3g\", \"position\": 1, \"resourceId\": {\"kind\": \"youtube#video\", \"videoId\": \"1eodpWWA2M0\"}}}, {\"kind\": \"youtube#playlistItem\", \"etag\": \"pi5ywwKrnjGr1dPkRAyDnbGsHTY\", \"id\": \"VVU4aU0zZm1VUnRUNjBuTE1TMlU0YTNnLnM2SU5BQ1c2ZC00\", \"snippet\": {\"publishedAt\": \"2020-04-17T13:18:08Z\", \"channelId\": \"UC8iM3fmURtT60nLMS2U4a3g\", \"title\": \"Love me instead by Moira | Cover |\", \"description\": \"I hope you'd like and enjoy this one!\\n\\nIf you do, please subscribe to my channel for more videos to come. Thank you! \\ud83d\\ude01\", \"thumbnails\": {\"default\": {\"url\": \"https://i.ytimg.com/vi/s6INACW6d-4/default.jpg\", \"width\": 120, \"height\": 90}, \"medium\": {\"url\": \"https://i.ytimg.com/vi/s6INACW6d-4/mqdefault.jpg\", \"width\": 320, \"height\": 180}, \"high\": {\"url\": \"https://i.ytimg.com/vi/s6INACW6d-4/hqdefault.jpg\", \"width\": 480, \"height\": 360}, \"standard\": {\"url\": \"https://i.ytimg.com/vi/s6INACW6d-4/sddefault.jpg\", \"width\": 640, \"height\": 480}, \"maxres\": {\"url\": \"https://i.ytimg.com/vi/s6INACW6d-4/maxresdefault.jpg\", \"width\": 1280, \"height\": 720}}, \"channelTitle\": \"Cuy\", \"playlistId\": \"UU8iM3fmURtT60nLMS2U4a3g\", \"position\": 2, \"resourceId\": {\"kind\": \"youtube#video\", \"videoId\": \"s6INACW6d-4\"}}}, {\"kind\": \"youtube#playlistItem\", \"etag\": \"Omnuz1Q0DN3mVMiwFUl7-K46b6M\", \"id\": \"VVU4aU0zZm1VUnRUNjBuTE1TMlU0YTNnLnloYUpCMVptbUdB\", \"snippet\": {\"publishedAt\": \"2020-04-10T08:41:31Z\", \"channelId\": \"UC8iM3fmURtT60nLMS2U4a3g\", \"title\": \"Heal our Land | Cover |\", \"description\": \"First time to do a cover with my eldest sister. \\n\\nLord, please Heal our Land \\ud83d\\ude4f\", \"thumbnails\": {\"default\": {\"url\": \"https://i.ytimg.com/vi/yhaJB1ZmmGA/default.jpg\", \"width\": 120, \"height\": 90}, \"medium\": {\"url\": \"https://i.ytimg.com/vi/yhaJB1ZmmGA/mqdefault.jpg\", \"width\": 320, \"height\": 180}, \"high\": {\"url\": \"https://i.ytimg.com/vi/yhaJB1ZmmGA/hqdefault.jpg\", \"width\": 480, \"height\": 360}, \"standard\": {\"url\": \"https://i.ytimg.com/vi/yhaJB1ZmmGA/sddefault.jpg\", \"width\": 640, \"height\": 480}, \"maxres\": {\"url\": \"https://i.ytimg.com/vi/yhaJB1ZmmGA/maxresdefault.jpg\", \"width\": 1280, \"height\": 720}}, \"channelTitle\": \"Cuy\", \"playlistId\": \"UU8iM3fmURtT60nLMS2U4a3g\", \"position\": 4, \"resourceId\": {\"kind\": \"youtube#video\", \"videoId\": \"yhaJB1ZmmGA\"}}}], \"pageInfo\": {\"totalResults\": 8, \"resultsPerPage\": 5}}))\n",
       "    });\n",
       "    "
      ]
     },
     "metadata": {},
     "output_type": "display_data"
    }
   ],
   "source": [
    "# GETTING ALL UPLOADED VIDEOS\n",
    "# **part**: \n",
    "\n",
    "# - **`contentDetails`**: 2\n",
    "# - **`id`**: 0\n",
    "# - **`snippet`**: 2\n",
    "# - **`status`**: 2\n",
    "part = 'snippet'\n",
    "upload_id = 'UU8iM3fmURtT60nLMS2U4a3g'\n",
    "yt_url = f'https://www.googleapis.com/youtube/v3/playlistItems?part={part}&&playlistId={upload_id}'\n",
    "response = get_youtube_request(access_token, yt_url)\n",
    "\n",
    "PRETTYJSON(response)"
   ]
  },
  {
   "cell_type": "code",
   "execution_count": 88,
   "metadata": {},
   "outputs": [
    {
     "data": {
      "text/html": [
       "<div id=\"9f403c77-4ed1-42ff-9d30-1391da7a42a0\" style=\"height: 600px; width:100%;font: 12px/18px monospace !important;\"></div>"
      ]
     },
     "metadata": {},
     "output_type": "display_data"
    },
    {
     "data": {
      "application/javascript": [
       "\n",
       "    require([\"https://rawgit.com/caldwell/renderjson/master/renderjson.js\"], function() {\n",
       "        renderjson.set_show_to_level(2);\n",
       "        document.getElementById('9f403c77-4ed1-42ff-9d30-1391da7a42a0').appendChild(renderjson({\"kind\": \"youtube#playlistItemListResponse\", \"etag\": \"Woz33bADTS_-f94so3K-gIHJMBM\", \"nextPageToken\": \"CAUQAA\", \"items\": [{\"kind\": \"youtube#playlistItem\", \"etag\": \"0JCoEhBd6OP__2x9KUVVs8hPmvU\", \"id\": \"VVU4aU0zZm1VUnRUNjBuTE1TMlU0YTNnLk9IUVBtdm9pS05V\", \"snippet\": {\"publishedAt\": \"2020-04-28T09:24:11Z\", \"channelId\": \"UC8iM3fmURtT60nLMS2U4a3g\", \"title\": \"Demonyo by Juan Karlos | Cover by Cuy\", \"description\": \"Just a short cover kaysa wala :)\", \"thumbnails\": {\"default\": {\"url\": \"https://i.ytimg.com/vi/OHQPmvoiKNU/default.jpg\", \"width\": 120, \"height\": 90}, \"medium\": {\"url\": \"https://i.ytimg.com/vi/OHQPmvoiKNU/mqdefault.jpg\", \"width\": 320, \"height\": 180}, \"high\": {\"url\": \"https://i.ytimg.com/vi/OHQPmvoiKNU/hqdefault.jpg\", \"width\": 480, \"height\": 360}, \"standard\": {\"url\": \"https://i.ytimg.com/vi/OHQPmvoiKNU/sddefault.jpg\", \"width\": 640, \"height\": 480}, \"maxres\": {\"url\": \"https://i.ytimg.com/vi/OHQPmvoiKNU/maxresdefault.jpg\", \"width\": 1280, \"height\": 720}}, \"channelTitle\": \"Cuy\", \"playlistId\": \"UU8iM3fmURtT60nLMS2U4a3g\", \"position\": 0, \"resourceId\": {\"kind\": \"youtube#video\", \"videoId\": \"OHQPmvoiKNU\"}}}, {\"kind\": \"youtube#playlistItem\", \"etag\": \"siEUb8YJE28U7RE3WQwJwDAeYC4\", \"id\": \"VVU4aU0zZm1VUnRUNjBuTE1TMlU0YTNnLjFlb2RwV1dBMk0w\", \"snippet\": {\"publishedAt\": \"2020-04-18T10:25:41Z\", \"channelId\": \"UC8iM3fmURtT60nLMS2U4a3g\", \"title\": \"Mahal na nga ba kita? (Original) by Cuy\", \"description\": \"Music and words by Cuy Pamintuan\\n\\nLyrics:\\n\\nHindi ko man madalas masabi\\nSana'y makita mo saking ngiti\\nIka'y narito, sa puso\\nMinsan man ay nalilito\\nPuso at isip ay nagkakagulo\\nNananaig pa rin, ang pag-ibig ko para sayo.\\n\\nPag-ibig na pinanghahawakan,\\u00a0\\nKaya kayang ipaglaban?\\n\\nKapag ika'y kasama\\nHalos ayaw ko ng kumawala\\nNagwawala ang puso\\nSa iyong tabi\\nAking lungkot ay napapawi palagi.\\nTuwing ako'y hawak hawak mo\\nPanatag ang loob ko\\nAno nga ba ito?\\nMahal na nga ba kita?\\n\\nHindi alam ang susunod na hakbang\\u00a0\\nAyokong ikaw ay masaktan,\\u00a0\\nNgunit ito nga bay maiiwasan?\\nKahit ano pa man,\\nKahit ano pang sabihin ng iba,\\nHindi ko ipagkakait\\nNa iparamdam sayo\\n\\nAko'y lubos na nagalak\\nSa iyong pagdating\\n\\nKapag ika'y kasama\\nHalos ayaw ko ng kumawala\\nNagwawala ang puso\\nSa iyong tabi\\nAking lungkot ay napapawi palagi.\\nTuwing ako'y hawak hawak mo\\nPanatag ang loob ko\\nAno nga ba ito?\\nMahal na nga ba kita?\\n\\nHindi alam kung kailan nagsimula\\nKung hanggang kailan,\\nKung hanggang saan.\\nNais ko lang namang malaman\\nKung ako ba ay mahal mo rin\\n\\nKapag ika'y kasama\\nHalos ayaw ko ng kumawala\\nNagwawala ang puso\\nSa iyong tabi\\nAking lungkot ay napapawi palagi.\\nTuwing ako'y hawak hawak mo\\nPanatag ang loob ko\\nEto na nga talaga\\nMahal na nga kita :)\", \"thumbnails\": {\"default\": {\"url\": \"https://i.ytimg.com/vi/1eodpWWA2M0/default.jpg\", \"width\": 120, \"height\": 90}, \"medium\": {\"url\": \"https://i.ytimg.com/vi/1eodpWWA2M0/mqdefault.jpg\", \"width\": 320, \"height\": 180}, \"high\": {\"url\": \"https://i.ytimg.com/vi/1eodpWWA2M0/hqdefault.jpg\", \"width\": 480, \"height\": 360}, \"standard\": {\"url\": \"https://i.ytimg.com/vi/1eodpWWA2M0/sddefault.jpg\", \"width\": 640, \"height\": 480}, \"maxres\": {\"url\": \"https://i.ytimg.com/vi/1eodpWWA2M0/maxresdefault.jpg\", \"width\": 1280, \"height\": 720}}, \"channelTitle\": \"Cuy\", \"playlistId\": \"UU8iM3fmURtT60nLMS2U4a3g\", \"position\": 1, \"resourceId\": {\"kind\": \"youtube#video\", \"videoId\": \"1eodpWWA2M0\"}}}, {\"kind\": \"youtube#playlistItem\", \"etag\": \"pi5ywwKrnjGr1dPkRAyDnbGsHTY\", \"id\": \"VVU4aU0zZm1VUnRUNjBuTE1TMlU0YTNnLnM2SU5BQ1c2ZC00\", \"snippet\": {\"publishedAt\": \"2020-04-17T13:18:08Z\", \"channelId\": \"UC8iM3fmURtT60nLMS2U4a3g\", \"title\": \"Love me instead by Moira | Cover |\", \"description\": \"I hope you'd like and enjoy this one!\\n\\nIf you do, please subscribe to my channel for more videos to come. Thank you! \\ud83d\\ude01\", \"thumbnails\": {\"default\": {\"url\": \"https://i.ytimg.com/vi/s6INACW6d-4/default.jpg\", \"width\": 120, \"height\": 90}, \"medium\": {\"url\": \"https://i.ytimg.com/vi/s6INACW6d-4/mqdefault.jpg\", \"width\": 320, \"height\": 180}, \"high\": {\"url\": \"https://i.ytimg.com/vi/s6INACW6d-4/hqdefault.jpg\", \"width\": 480, \"height\": 360}, \"standard\": {\"url\": \"https://i.ytimg.com/vi/s6INACW6d-4/sddefault.jpg\", \"width\": 640, \"height\": 480}, \"maxres\": {\"url\": \"https://i.ytimg.com/vi/s6INACW6d-4/maxresdefault.jpg\", \"width\": 1280, \"height\": 720}}, \"channelTitle\": \"Cuy\", \"playlistId\": \"UU8iM3fmURtT60nLMS2U4a3g\", \"position\": 2, \"resourceId\": {\"kind\": \"youtube#video\", \"videoId\": \"s6INACW6d-4\"}}}, {\"kind\": \"youtube#playlistItem\", \"etag\": \"Omnuz1Q0DN3mVMiwFUl7-K46b6M\", \"id\": \"VVU4aU0zZm1VUnRUNjBuTE1TMlU0YTNnLnloYUpCMVptbUdB\", \"snippet\": {\"publishedAt\": \"2020-04-10T08:41:31Z\", \"channelId\": \"UC8iM3fmURtT60nLMS2U4a3g\", \"title\": \"Heal our Land | Cover |\", \"description\": \"First time to do a cover with my eldest sister. \\n\\nLord, please Heal our Land \\ud83d\\ude4f\", \"thumbnails\": {\"default\": {\"url\": \"https://i.ytimg.com/vi/yhaJB1ZmmGA/default.jpg\", \"width\": 120, \"height\": 90}, \"medium\": {\"url\": \"https://i.ytimg.com/vi/yhaJB1ZmmGA/mqdefault.jpg\", \"width\": 320, \"height\": 180}, \"high\": {\"url\": \"https://i.ytimg.com/vi/yhaJB1ZmmGA/hqdefault.jpg\", \"width\": 480, \"height\": 360}, \"standard\": {\"url\": \"https://i.ytimg.com/vi/yhaJB1ZmmGA/sddefault.jpg\", \"width\": 640, \"height\": 480}, \"maxres\": {\"url\": \"https://i.ytimg.com/vi/yhaJB1ZmmGA/maxresdefault.jpg\", \"width\": 1280, \"height\": 720}}, \"channelTitle\": \"Cuy\", \"playlistId\": \"UU8iM3fmURtT60nLMS2U4a3g\", \"position\": 4, \"resourceId\": {\"kind\": \"youtube#video\", \"videoId\": \"yhaJB1ZmmGA\"}}}], \"pageInfo\": {\"totalResults\": 8, \"resultsPerPage\": 5}}))\n",
       "    });\n",
       "    "
      ]
     },
     "metadata": {},
     "output_type": "display_data"
    }
   ],
   "source": [
    "# GETTING SPECIFIC VIDEOS STATISTICS\n",
    "#   PART PARAMETERS\n",
    "#     contentDetails: 2\n",
    "#     fileDetails: 1\n",
    "#     id: 0\n",
    "#     liveStreamingDetails: 2\n",
    "#     localizations: 2\n",
    "#     player: 0\n",
    "#     processingDetails: 1\n",
    "#     recordingDetails: 2\n",
    "#     snippet: 2\n",
    "#     statistics: 2\n",
    "#     status: 2\n",
    "#     suggestions: 1\n",
    "#     topicDetails: 2\n",
    "# REFERENCE: https://developers.google.com/youtube/v3/docs/videos/list\n",
    "    \n",
    "playlist_item_id = 'VVU4aU0zZm1VUnRUNjBuTE1TMlU0YTNnLk9IUVBtdm9pS05V'\n",
    "part = 'snippet'\n",
    "url = f'https://www.googleapis.com/youtube/v3/videos?part={part}&playlistId={playlist_item_id}'\n",
    "\n",
    "response = get_youtube_request(access_token, yt_url)\n",
    "\n",
    "PRETTYJSON(response)"
   ]
  },
  {
   "cell_type": "code",
   "execution_count": 92,
   "metadata": {},
   "outputs": [
    {
     "data": {
      "text/html": [
       "<div id=\"49c7ed05-8151-435a-8a51-24305c25f4dd\" style=\"height: 600px; width:100%;font: 12px/18px monospace !important;\"></div>"
      ]
     },
     "metadata": {},
     "output_type": "display_data"
    },
    {
     "data": {
      "application/javascript": [
       "\n",
       "    require([\"https://rawgit.com/caldwell/renderjson/master/renderjson.js\"], function() {\n",
       "        renderjson.set_show_to_level(2);\n",
       "        document.getElementById('49c7ed05-8151-435a-8a51-24305c25f4dd').appendChild(renderjson({\"kind\": \"youtube#videoListResponse\", \"etag\": \"az9QADkeFborz1ig2qLMbiOyfe0\", \"items\": [{\"kind\": \"youtube#video\", \"etag\": \"UwVHJaNE77whhp__VtMmrFreVUs\", \"id\": \"OHQPmvoiKNU\", \"snippet\": {\"publishedAt\": \"2020-04-28T09:24:11Z\", \"channelId\": \"UC8iM3fmURtT60nLMS2U4a3g\", \"title\": \"Demonyo by Juan Karlos | Cover by Cuy\", \"description\": \"Just a short cover kaysa wala :)\", \"thumbnails\": {\"default\": {\"url\": \"https://i.ytimg.com/vi/OHQPmvoiKNU/default.jpg\", \"width\": 120, \"height\": 90}, \"medium\": {\"url\": \"https://i.ytimg.com/vi/OHQPmvoiKNU/mqdefault.jpg\", \"width\": 320, \"height\": 180}, \"high\": {\"url\": \"https://i.ytimg.com/vi/OHQPmvoiKNU/hqdefault.jpg\", \"width\": 480, \"height\": 360}, \"standard\": {\"url\": \"https://i.ytimg.com/vi/OHQPmvoiKNU/sddefault.jpg\", \"width\": 640, \"height\": 480}, \"maxres\": {\"url\": \"https://i.ytimg.com/vi/OHQPmvoiKNU/maxresdefault.jpg\", \"width\": 1280, \"height\": 720}}, \"channelTitle\": \"Cuy\", \"categoryId\": \"22\", \"liveBroadcastContent\": \"none\", \"localized\": {\"title\": \"Demonyo by Juan Karlos | Cover by Cuy\", \"description\": \"Just a short cover kaysa wala :)\"}}, \"contentDetails\": {\"duration\": \"PT1M5S\", \"dimension\": \"2d\", \"definition\": \"hd\", \"caption\": \"false\", \"licensedContent\": false, \"contentRating\": {}, \"projection\": \"rectangular\", \"hasCustomThumbnail\": false}, \"statistics\": {\"viewCount\": \"114\", \"likeCount\": \"21\", \"dislikeCount\": \"0\", \"favoriteCount\": \"0\", \"commentCount\": \"5\"}}], \"pageInfo\": {\"totalResults\": 1, \"resultsPerPage\": 1}}))\n",
       "    });\n",
       "    "
      ]
     },
     "metadata": {},
     "output_type": "display_data"
    }
   ],
   "source": [
    "# FOR YOUTUBE VIDEOS\n",
    "# PART\n",
    "#     contentDetails: 2\n",
    "#     fileDetails: 1\n",
    "#     id: 0\n",
    "#     liveStreamingDetails: 2\n",
    "#     localizations: 2\n",
    "#     player: 0\n",
    "#     processingDetails: 1\n",
    "#     recordingDetails: 2\n",
    "#     snippet: 2\n",
    "#     statistics: 2\n",
    "#     status: 2\n",
    "#     suggestions: 1\n",
    "#     topicDetails: 2\n",
    "\n",
    "video_id = 'OHQPmvoiKNU'\n",
    "part = 'contentDetails,snippet,statistics'\n",
    "yt_url = f'https://www.googleapis.com/youtube/v3/videos?part={part}&id={video_id}'\n",
    "            \n",
    "\n",
    "response = get_youtube_request(access_token, yt_url)\n",
    "\n",
    "PRETTYJSON(response)"
   ]
  },
  {
   "cell_type": "code",
   "execution_count": 94,
   "metadata": {},
   "outputs": [
    {
     "data": {
      "text/html": [
       "<div id=\"8de3c1da-0238-4490-8ba2-6abe602204d1\" style=\"height: 600px; width:100%;font: 12px/18px monospace !important;\"></div>"
      ]
     },
     "metadata": {},
     "output_type": "display_data"
    },
    {
     "data": {
      "application/javascript": [
       "\n",
       "    require([\"https://rawgit.com/caldwell/renderjson/master/renderjson.js\"], function() {\n",
       "        renderjson.set_show_to_level(2);\n",
       "        document.getElementById('8de3c1da-0238-4490-8ba2-6abe602204d1').appendChild(renderjson({\"kind\": \"youtubeAnalytics#resultTable\", \"columnHeaders\": [{\"name\": \"month\", \"columnType\": \"DIMENSION\", \"dataType\": \"STRING\"}, {\"name\": \"subscribersGained\", \"columnType\": \"METRIC\", \"dataType\": \"INTEGER\"}], \"rows\": [[\"2020-04\", 102], [\"2020-05\", 2], [\"2020-06\", 1]]}))\n",
       "    });\n",
       "    "
      ]
     },
     "metadata": {},
     "output_type": "display_data"
    }
   ],
   "source": [
    "# # DIMENSIONS\n",
    "# ageGroup , channel, country, day, gender, month, sharingService, uploaderType, video, 7DayTotals (deprecated, valid until April 15, 2020), 30DayTotals (deprecated, valid until April 15, 2020)\n",
    "\n",
    "# # METRICS\n",
    "# annotationClickThroughRate, annotationCloseRate, averageViewDuration, comments, dislikes, estimatedMinutesWatched, estimatedRevenue, likes, shares, subscribersGained, subscribersLost, viewerPercentage, views\n",
    "\n",
    "\n",
    "dimension = \"month\"\n",
    "startDate = \"2020-01-01\"\n",
    "endDate = \"2020-06-01\"\n",
    "metrics = \"subscribersGained\"\n",
    "\n",
    "yt_url = f'https://youtubeanalytics.googleapis.com/v2/reports?dimensions={dimension}&endDate={endDate}&ids=channel%3D%3DMINE&metrics={metrics}&startDate={startDate}'\n",
    "\n",
    "response = get_youtube_request(access_token, yt_url)\n",
    "\n",
    "PRETTYJSON(response)"
   ]
  },
  {
   "cell_type": "code",
   "execution_count": 95,
   "metadata": {},
   "outputs": [
    {
     "data": {
      "image/png": "[encoded data removed]",
      "text/plain": [
       "<Figure size 864x864 with 1 Axes>"
      ]
     },
     "metadata": {
      "needs_background": "light"
     },
     "output_type": "display_data"
    }
   ],
   "source": [
    "import matplotlib.pyplot as plt\n",
    "\n",
    "data = response['rows']\n",
    "\n",
    "x = [d[0] for d in data]\n",
    "y = [d[1] for d in data]\n",
    "\n",
    "#  Create figure and plot space\n",
    "fig, ax = plt.subplots(figsize=(12, 12))\n",
    "\n",
    "# Add x-axis and y-axis\n",
    "ax.plot(x,\n",
    "        y,\n",
    "        color='purple')\n",
    "\n",
    "# Set title and labels for axes\n",
    "ax.set(xlabel=\"Date\",\n",
    "       ylabel=\"Subscriber Count\",\n",
    "       title=\"Follower's Growth\")\n",
    "\n",
    "plt.show()\n"
   ]
  },
  {
   "cell_type": "code",
   "execution_count": null,
   "metadata": {},
   "outputs": [],
   "source": []
  }
 ],
 "metadata": {
  "kernelspec": {
   "display_name": "Python 3",
   "language": "python",
   "name": "python3"
  },
  "language_info": {
   "codemirror_mode": {
    "name": "ipython",
    "version": 3
   },
   "file_extension": ".py",
   "mimetype": "text/x-python",
   "name": "python",
   "nbconvert_exporter": "python",
   "pygments_lexer": "ipython3",
   "version": "3.7.3"
  }
 },
 "nbformat": 4,
 "nbformat_minor": 2
}
