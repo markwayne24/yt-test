{
 "cells": [
  {
   "cell_type": "code",
   "execution_count": null,
   "metadata": {},
   "outputs": [],
   "source": [
    "import sys\n",
    "!{sys.executable} -m pip install --upgrade google-api-python-client google-auth-oauthlib google-auth-httplib2 ipyauth"
   ]
  },
  {
   "cell_type": "code",
   "execution_count": null,
   "metadata": {},
   "outputs": [],
   "source": [
    "# Check your client key json file\n",
    "%cat popstar_client_key.json"
   ]
  },
  {
   "cell_type": "code",
   "execution_count": 21,
   "metadata": {},
   "outputs": [
    {
     "data": {
      "text/plain": [
       "'Given methods doesnt exist'"
      ]
     },
     "execution_count": 21,
     "metadata": {},
     "output_type": "execute_result"
    }
   ],
   "source": [
    "# FOR PRETTY JSON DISPLAY ONLY\n",
    "import json\n",
    "import uuid\n",
    "from IPython.display import display_javascript, display_html, display\n",
    "import requests\n",
    "import json\n",
    "\n",
    "def PRETTYJSON(json_data):\n",
    "    json_data = json_data.json()\n",
    "    if isinstance(json_data, dict) or isinstance(json_data, list):\n",
    "        json_str = json.dumps(json_data)\n",
    "    else:\n",
    "        json_str = json_data\n",
    "    str_uuid = str(uuid.uuid4())\n",
    "    \n",
    "    return display(json_str, str_uuid)\n",
    "\n",
    "def display(json_str, str_uuid):\n",
    "    display_html('<div id=\"{}\" style=\"height: 600px; width:100%;font: 12px/18px monospace !important;\"></div>'.format(str_uuid), raw=True)\n",
    "    display_javascript(\"\"\"\n",
    "    require([\"https://rawgit.com/caldwell/renderjson/master/renderjson.js\"], function() {\n",
    "        renderjson.set_show_to_level(2);\n",
    "        document.getElementById('%s').appendChild(renderjson(%s))\n",
    "    });\n",
    "    \"\"\" % (str_uuid, json_str), raw=True)\n",
    "    \n",
    "\n",
    "def youtube_request(access_token, url, method):        \n",
    "    # Sample url\n",
    "    # url = f'https://www.googleapis.com/youtube/v3/videos?part={statistics}&id={video_id}'\n",
    "\n",
    "    if method is 'get':\n",
    "        headers = {\n",
    "            'Authorization': f'Bearer {token}',\n",
    "            'Content-Type': 'application/json'\n",
    "        }\n",
    "\n",
    "        r = requests.get(url, headers=headers)\n",
    "\n",
    "        return r\n",
    "    else:\n",
    "        return \"Given methods doesnt exist\"\n"
   ]
  },
  {
   "cell_type": "code",
   "execution_count": null,
   "metadata": {},
   "outputs": [
    {
     "name": "stdout",
     "output_type": "stream",
     "text": [
      "Please visit this URL to authorize this application: https://accounts.google.com/o/oauth2/auth?response_type=code&client_id=422694994427-ma9iko90rbs37j63t77otvtl6o4m3qmo.apps.googleusercontent.com&redirect_uri=urn%3Aietf%3Awg%3Aoauth%3A2.0%3Aoob&scope=https%3A%2F%2Fwww.googleapis.com%2Fauth%2Fyoutube.readonly&state=xraQMl6cIIPMfVdUHlcyUhqS1eb1IU&prompt=consent&access_type=offline\n"
     ]
    }
   ],
   "source": [
    "# LETS TRY TO GENERATE AUTHORIZATION CODE SO WE CAN PROCEED\n",
    "\n",
    "import os\n",
    "\n",
    "import google_auth_oauthlib.flow\n",
    "import googleapiclient.discovery\n",
    "import googleapiclient.errors\n",
    "import json\n",
    "from oauth2client import client\n",
    "\n",
    "scopes = [\n",
    "    \"https://www.googleapis.com/auth/youtube.readonly\",\n",
    "#     \"https://www.googleapis.com/auth/youtube.force-ssl\",\n",
    "#     \"https://www.googleapis.com/auth/yt-analytics.readonly\"\n",
    "]\n",
    "\n",
    "api_service_name = \"youtube\"\n",
    "api_version = \"v3\"\n",
    "client_secrets_file = \"popstar_client_key.json\"\n",
    "\n",
    "# Get credentials and create an API client\n",
    "flow = google_auth_oauthlib.flow.InstalledAppFlow.from_client_secrets_file(\n",
    "    client_secrets_file, scopes)\n",
    "credentials = flow.run_console()"
   ]
  },
  {
   "cell_type": "code",
   "execution_count": 13,
   "metadata": {},
   "outputs": [
    {
     "ename": "NameError",
     "evalue": "name 'requests' is not defined",
     "output_type": "error",
     "traceback": [
      "\u001b[0;31m---------------------------------------------------------------------------\u001b[0m",
      "\u001b[0;31mNameError\u001b[0m                                 Traceback (most recent call last)",
      "\u001b[0;32m<ipython-input-13-142015a2915a>\u001b[0m in \u001b[0;36m<module>\u001b[0;34m\u001b[0m\n\u001b[1;32m     19\u001b[0m };\n\u001b[1;32m     20\u001b[0m \u001b[0;34m\u001b[0m\u001b[0m\n\u001b[0;32m---> 21\u001b[0;31m \u001b[0mr\u001b[0m \u001b[0;34m=\u001b[0m \u001b[0mrequests\u001b[0m\u001b[0;34m.\u001b[0m\u001b[0mpost\u001b[0m\u001b[0;34m(\u001b[0m\u001b[0murl\u001b[0m \u001b[0;34m,\u001b[0m \u001b[0mdata\u001b[0m\u001b[0;34m=\u001b[0m\u001b[0mjson\u001b[0m\u001b[0;34m.\u001b[0m\u001b[0mdumps\u001b[0m\u001b[0;34m(\u001b[0m\u001b[0mdata\u001b[0m\u001b[0;34m)\u001b[0m\u001b[0;34m)\u001b[0m\u001b[0;34m\u001b[0m\u001b[0;34m\u001b[0m\u001b[0m\n\u001b[0m\u001b[1;32m     22\u001b[0m \u001b[0;34m\u001b[0m\u001b[0m\n\u001b[1;32m     23\u001b[0m \u001b[0;31m# Display the response\u001b[0m\u001b[0;34m\u001b[0m\u001b[0;34m\u001b[0m\u001b[0;34m\u001b[0m\u001b[0m\n",
      "\u001b[0;31mNameError\u001b[0m: name 'requests' is not defined"
     ]
    }
   ],
   "source": [
    "# EXCHANGE CODE FOR TOKEN AND REFRESH TOKEN\n",
    "# Redirect_uri must the same as the redirect_uri to the frontend where you requested the Authorization code\n",
    "# Make sure that you have added 'http://127.0.0.1:3000/' to your Google OAuth client ID credentisl\n",
    "\n",
    "googleAppId = '422694994427-8vo76kqv7nm99v27dofkek56et6i2tp5.apps.googleusercontent.com'\n",
    "googleSecret = '0PsnuDv1sPSv9CkpDlsc03Sz'\n",
    "\n",
    "# You must put valid Authorization code \n",
    "auth_code = \"4/1AEM5AcWSjPljhXCMWdpZ0jF9QnmfFi7tzIZNlxAoKqGGmnX1e-hAhG_bf4kfWBcgvngEF91TGblNvDZfpQTmso\"\n",
    "\n",
    "url = 'https://www.googleapis.com/oauth2/v4/token'\n",
    "\n",
    "data = {\n",
    "    'code': auth_code,\n",
    "    'client_id': googleAppId,\n",
    "    'client_secret': googleSecret,\n",
    "    'redirect_uri': 'http://127.0.0.1:3000/',\n",
    "    'grant_type':\"authorization_code\",\n",
    "};\n",
    "\n",
    "r = requests.post(url , data=json.dumps(data))\n",
    "\n",
    "# Display the response\n",
    "PRETTYJSON(r)\n"
   ]
  },
  {
   "cell_type": "code",
   "execution_count": 14,
   "metadata": {},
   "outputs": [
    {
     "name": "stdout",
     "output_type": "stream",
     "text": [
      "{'access_token': 'ya29.a0AfH6SMCchsx_p9j3SdPfSGHFitFwYrZsssGnnhmx-LJjk44mqxQm5iu-OgcDEUPOJaX7gMFKfkbdlgVPyPjPHD-9pRfOB5CePfoknw-NB1vgEApfvJDl7jucUcvDmpp77-yyBRkaj8-VkR_otjFWgYalzFAMiXVXydVQqA', 'expires_in': 3599, 'scope': 'https://www.googleapis.com/auth/youtube.force-ssl https://www.googleapis.com/auth/youtube.readonly https://www.googleapis.com/auth/yt-analytics.readonly', 'token_type': 'Bearer'}\n",
      "https://www.googleapis.com/oauth2/v4/token\n"
     ]
    }
   ],
   "source": [
    "# EXCHANGE REFRESH TOKEN FOR VALID TOKEN\n",
    "\n",
    "import requests\n",
    "import json\n",
    "import googleapiclient.discovery\n",
    "import googleapiclient.errors\n",
    "\n",
    "url = 'https://www.googleapis.com/oauth2/v4/token'\n",
    "\n",
    "data = {\n",
    "    'client_id': '422694994427-ma9iko90rbs37j63t77otvtl6o4m3qmo.apps.googleusercontent.com',\n",
    "    'client_secret': 'rbCBAYcaUPpyJNgMUaND9wyV',\n",
    "    'refresh_token': '1//0gmOXvUeAJNGQCgYIARAAGBASNwF-L9Irlfzh82Jb0OsByWZCHA95oPDir4nSe7UZvT43TvuHVDjwl7ORsCVXq6vGsNizGrpNve0',\n",
    "    'grant_type': 'refresh_token'\n",
    "}\n",
    "\n",
    "r = requests.post(url , data=json.dumps(data))\n",
    "\n",
    "print(r.json())\n",
    "\n",
    "r = r.json()\n",
    "\n",
    "yt_url = 'https://www.googleapis.com/youtube/v3/channels?part=contentDetails,snippet,status,statistics&mine=true'\n",
    "token = r['access_token']\n",
    "\n",
    "headers = {\n",
    "    'Authorization': f'Bearer {token}',\n",
    "    'Content-Type': 'application/json'\n",
    "}\n",
    "\n",
    "r = requests.get(yt_url, headers=headers)\n",
    "\n",
    "print(url)\n"
   ]
  },
  {
   "cell_type": "code",
   "execution_count": 12,
   "metadata": {},
   "outputs": [
    {
     "ename": "SyntaxError",
     "evalue": "invalid syntax (<ipython-input-12-830736d53e20>, line 2)",
     "output_type": "error",
     "traceback": [
      "\u001b[0;36m  File \u001b[0;32m\"<ipython-input-12-830736d53e20>\"\u001b[0;36m, line \u001b[0;32m2\u001b[0m\n\u001b[0;31m    ageGroup , channel, country, day, gender, month, sharingService, uploaderType, video, 7DayTotals (deprecated, valid until April 15, 2020), 30DayTotals (deprecated, valid until April 15, 2020)\u001b[0m\n\u001b[0m                                                                                                   ^\u001b[0m\n\u001b[0;31mSyntaxError\u001b[0m\u001b[0;31m:\u001b[0m invalid syntax\n"
     ]
    }
   ],
   "source": [
    "# DIMENSIONS\n",
    "ageGroup , channel, country, day, gender, month, sharingService, uploaderType, video, 7DayTotals (deprecated, valid until April 15, 2020), 30DayTotals (deprecated, valid until April 15, 2020)\n",
    "\n",
    "# METRICS\n",
    "annotationClickThroughRate, annotationCloseRate, averageViewDuration, comments, dislikes, estimatedMinutesWatched, estimatedRevenue, likes, shares, subscribersGained, subscribersLost, viewerPercentage, views\n",
    "\n",
    "\n",
    "dimension = \"month\"\n",
    "startDate = \"2020-01-01\"\n",
    "endDate = \"2020-06-01\"\n",
    "metrics = \"views,estimatedMinutesWatched,averageViewDuration,averageViewPercentage,subscribersGained\"\n",
    "\n",
    "url = f'https://youtubeanalytics.googleapis.com/v2/reports?dimensions={dimension}&endDate={endDate}&ids=channel%3D%3DMINE&metrics={metrics}&startDate={startDate}'\n",
    "\n",
    "# token = r['access_token']\n",
    "\n",
    "headers = {\n",
    "    'Authorization': f'Bearer {token}',\n",
    "    'Content-Type': 'application/json'\n",
    "}\n",
    "\n",
    "r = requests.get(url, headers=headers)\n",
    "\n",
    "PRETTYJSON(r)\n",
    "\n",
    "\n"
   ]
  },
  {
   "cell_type": "code",
   "execution_count": 11,
   "metadata": {},
   "outputs": [
    {
     "data": {
      "text/html": [
       "<div id=\"cb8c53ff-44f7-49b9-84b2-d97f7ee81633\" style=\"height: 600px; width:100%;font: 12px/18px monospace !important;\"></div>"
      ]
     },
     "metadata": {},
     "output_type": "display_data"
    },
    {
     "data": {
      "application/javascript": [
       "\n",
       "    require([\"https://rawgit.com/caldwell/renderjson/master/renderjson.js\"], function() {\n",
       "        renderjson.set_show_to_level(2);\n",
       "        document.getElementById('cb8c53ff-44f7-49b9-84b2-d97f7ee81633').appendChild(renderjson({\"kind\": \"youtube#videoListResponse\", \"etag\": \"uE9zKpId2wWXHL1gz3pFGORzJBM\", \"items\": [{\"kind\": \"youtube#video\", \"etag\": \"0kSXjr6AHcIRf34sefhcR8Rn1Pg\", \"id\": \"Ks-_Mh1QhMc\", \"statistics\": {\"viewCount\": \"18199906\", \"likeCount\": \"259663\", \"dislikeCount\": \"5116\", \"favoriteCount\": \"0\", \"commentCount\": \"8137\"}}], \"pageInfo\": {\"totalResults\": 1, \"resultsPerPage\": 1}}))\n",
       "    });\n",
       "    "
      ]
     },
     "metadata": {},
     "output_type": "display_data"
    }
   ],
   "source": [
    "# GETTING SPECIFIC VIDEOS STATISTICS\n",
    "#   PART PARAMETERS\n",
    "#     contentDetails: 2\n",
    "#     fileDetails: 1\n",
    "#     id: 0\n",
    "#     liveStreamingDetails: 2\n",
    "#     localizations: 2\n",
    "#     player: 0\n",
    "#     processingDetails: 1\n",
    "#     recordingDetails: 2\n",
    "#     snippet: 2\n",
    "#     statistics: 2\n",
    "#     status: 2\n",
    "#     suggestions: 1\n",
    "#     topicDetails: 2\n",
    "    \n",
    "video_id = 'Ks-_Mh1QhMc'\n",
    "part = 'statistics'\n",
    "url = f'https://www.googleapis.com/youtube/v3/videos?part={statistics}&id={video_id}'\n",
    "\n",
    "headers = {\n",
    "    'Authorization': f'Bearer {token}',\n",
    "    'Content-Type': 'application/json'\n",
    "}\n",
    "\n",
    "r = requests.get(url, headers=headers)\n",
    "\n",
    "PRETTYJSON(r)"
   ]
  },
  {
   "cell_type": "code",
   "execution_count": 11,
   "metadata": {},
   "outputs": [
    {
     "data": {
      "image/png": "[encoded data removed]",
      "text/plain": [
       "<Figure size 864x864 with 1 Axes>"
      ]
     },
     "metadata": {
      "needs_background": "light"
     },
     "output_type": "display_data"
    }
   ],
   "source": [
    "import matplotlib.pyplot as plt\n",
    "\n",
    "# Sample response from youtube\n",
    "data = {\n",
    "  \"kind\": \"youtubeAnalytics#resultTable\",\n",
    "  \"columnHeaders\": [\n",
    "    {\n",
    "      \"name\": \"month\",\n",
    "      \"columnType\": \"DIMENSION\",\n",
    "      \"dataType\": \"STRING\"\n",
    "    },\n",
    "    {\n",
    "      \"name\": \"subscribersGained\",\n",
    "      \"columnType\": \"METRIC\",\n",
    "      \"dataType\": \"INTEGER\"\n",
    "    }\n",
    "  ],\n",
    "  \"rows\": [\n",
    "    [\n",
    "      \"2020-04\",\n",
    "      102\n",
    "    ],\n",
    "    [\n",
    "      \"2020-05\",\n",
    "      2\n",
    "    ],\n",
    "    [\n",
    "      \"2020-06\",\n",
    "      1\n",
    "    ]\n",
    "  ]\n",
    "}\n",
    "\n",
    "x = [d[0] for d in data['rows']]\n",
    "y = [d[1] for d in data['rows']]\n",
    "# y = range(len(x)) # many thanks to Kyss Tao for setting me straight here\n",
    "# print(x)\n",
    "\n",
    "\n",
    "#  Create figure and plot space\n",
    "fig, ax = plt.subplots(figsize=(12, 12))\n",
    "\n",
    "# Add x-axis and y-axis\n",
    "ax.plot(x,\n",
    "        y,\n",
    "        color='purple')\n",
    "\n",
    "# Set title and labels for axes\n",
    "ax.set(xlabel=\"Date\",\n",
    "       ylabel=\"Subscriber Count\",\n",
    "       title=\"Follower's Growth\")\n",
    "\n",
    "plt.show()\n"
   ]
  },
  {
   "cell_type": "code",
   "execution_count": null,
   "metadata": {},
   "outputs": [],
   "source": []
  }
 ],
 "metadata": {
  "kernelspec": {
   "display_name": "Python 3",
   "language": "python",
   "name": "python3"
  },
  "language_info": {
   "codemirror_mode": {
    "name": "ipython",
    "version": 3
   },
   "file_extension": ".py",
   "mimetype": "text/x-python",
   "name": "python",
   "nbconvert_exporter": "python",
   "pygments_lexer": "ipython3",
   "version": "3.7.3"
  }
 },
 "nbformat": 4,
 "nbformat_minor": 2
}
